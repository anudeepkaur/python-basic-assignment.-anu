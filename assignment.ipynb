{
 "cells": [
  {
   "cell_type": "code",
   "execution_count": null,
   "id": "70f0110e-0886-442e-a652-799bd58294c6",
   "metadata": {},
   "outputs": [],
   "source": [
    "# Question_1: explain the key features of pythn that make it a popular choice for proramming language\n"
   ]
  },
  {
   "cell_type": "code",
   "execution_count": 1,
   "id": "821b2956-d3c4-4cb2-9662-9728764f8c41",
   "metadata": {},
   "outputs": [],
   "source": [
    "#1 : Simplicity : python's syntax is designed o be clear and readable, which makes it accessible for beginners and experienced developers alike. its elegant and straightforward style reduces the cost of program maintenance.\n",
    "\n",
    "#2 : Versatility: python is a versatile language that can be used or a wide range of applications including web developmaent , data analysis , artificial intelligence , scientific computing, and more. This versatility is supported by a vast ecosystem of libraries and frameworks.\n",
    "\n",
    "#3 : Strong community and support : python has a large and active community of developers who cntributes to its growth and development . This community support is evident in the availability of resources , tutorials and forums where developers can seek help and share knowledge.\n",
    "\n",
    "#4 : Scalibility : python scales well with the size of projects . It can be used to write small scripts or large - scale applications .Many high- traffic websites and applications are built uusing pyton frameworks such as django and flask.\n",
    "\n",
    "#5 : Libraries and Frameworks : python has a vast ecosystem of thirdparty ibraries and framework that extends its capabilities. For example, Numpy and Pandas for data manipulation, TensorFlow and  PyTorc for machine learning, Django and FLASK for web develpment , and more.\n",
    "\n",
    "#6 : Integration capabilities : python can easily interface with other languages like C++/C allowing developers to optimize critical sections of code for performance while retaining python ease of use for other parts of project.\n",
    "\n",
    "#7 : Rich standard library : python comes with a comrehensive sandard library that provides modules and packages for tasks such as string operations , file I/O, web services ,and more . This reduces the need for external libraries for many common programming tasks.\n",
    " \n",
    "#8  :Interpreted and Interactive : python is an interpreted language, which means that code can be executed line by line , making it easier to test and debug. Additionally , python supports an interactive mode where you can experiment with code snippets and immediatey see the results.\n",
    "\n",
    "#9 : Platform independence : python is highly portable and runs on various platforms including Windows , Linux , and macOS. This makes it easier to develop applications that can run on different systems without modification.\n",
    "\n",
    "#10 : Adoption in Academia and Industry : python's popularity in both academic and industrial settings has led to its widespread adoption . It is often thhe language of cice for teaching programming and data sciencce due to its simplicity and power. \n",
    "\n",
    "\n"
   ]
  },
  {
   "cell_type": "code",
   "execution_count": 2,
   "id": "8645b032-95a8-4118-b153-be223766239b",
   "metadata": {},
   "outputs": [],
   "source": [
    "# Question_2 Describe the role of predefined keywords in Python and provide examples of how they are used in a proram\n"
   ]
  },
  {
   "cell_type": "code",
   "execution_count": null,
   "id": "021929b0-cdcf-428f-a65b-ce5417396efe",
   "metadata": {},
   "outputs": [],
   "source": [
    "#1 : Predefined have special meanings and cannot used as identifiers (variable names, function names , etc).\n",
    "\n",
    "# 2 : Examples include : if , else , while , for , def, class , import , try, except , return , True, False , None etc.\n",
    "\n",
    "# 3 : Keywords are case sensitive and cannot redefined or overridden with in a python program. \n",
    "\n"
   ]
  },
  {
   "cell_type": "code",
   "execution_count": 2,
   "id": "d196a04b-3d33-465a-8649-0d750e3be32e",
   "metadata": {},
   "outputs": [
    {
     "name": "stdout",
     "output_type": "stream",
     "text": [
      "hello world\n"
     ]
    }
   ],
   "source": [
    "#EXAMLE:\n",
    "\n",
    "print (\"hello world\") # print is a keyword"
   ]
  },
  {
   "cell_type": "code",
   "execution_count": 5,
   "id": "0df1641f-a395-42b5-981b-2a8d74755cb8",
   "metadata": {},
   "outputs": [
    {
     "data": {
      "text/plain": [
       "3"
      ]
     },
     "execution_count": 5,
     "metadata": {},
     "output_type": "execute_result"
    }
   ],
   "source": [
    "a =3 # a is a variable\n",
    "a "
   ]
  },
  {
   "cell_type": "code",
   "execution_count": 6,
   "id": "2d336163-664e-4451-a4a6-5a4e33305f7c",
   "metadata": {},
   "outputs": [],
   "source": [
    "# Question_3 0 Compare and contrast mutable and immutable objects in Python with examples"
   ]
  },
  {
   "cell_type": "code",
   "execution_count": 7,
   "id": "f9815b37-19e2-4c7b-b847-a5c05b4da85b",
   "metadata": {},
   "outputs": [],
   "source": [
    "# 1 : In python , objects can be either be changeble ( modifiable) or unchangeable (unchangeable)\n",
    "\n",
    "# 2 : In python mutable object , such as list and dictionaries , can be modified after creation , while immutable objects , such as tuples and strings can not.\n",
    "\n",
    "# 3 : Mutability affects how objects are stored and manipulated in memory , impacting performance , memory usage and concurrency in python programm.\n"
   ]
  },
  {
   "cell_type": "code",
   "execution_count": 21,
   "id": "b390203b-e253-451d-bc4a-fe80a5da4bc6",
   "metadata": {},
   "outputs": [
    {
     "data": {
      "text/plain": [
       "[' Rahul', 'Parul', 'Vaibhav', 'Prince', 'Ashu']"
      ]
     },
     "execution_count": 21,
     "metadata": {},
     "output_type": "execute_result"
    }
   ],
   "source": [
    "# Examples of mutable :\n",
    "\n",
    "lis =[\" Rahul\", \"Parul\", \"Vaibhav\", \"Prince\", \"Ashu\"]\n",
    "lis\n",
    "      "
   ]
  },
  {
   "cell_type": "code",
   "execution_count": 22,
   "id": "fc7ca009-8a4d-49ef-9f7e-78d90d2f788e",
   "metadata": {},
   "outputs": [
    {
     "data": {
      "text/plain": [
       "[' Rahul', 'Parul', 'Pandit', 'Prince', 'Ashu']"
      ]
     },
     "execution_count": 22,
     "metadata": {},
     "output_type": "execute_result"
    }
   ],
   "source": [
    "lis[2] = \"Pandit\" # list is a mutable because after creation it can be change.\n",
    "lis"
   ]
  },
  {
   "cell_type": "code",
   "execution_count": 25,
   "id": "b3f8adc2-5ce5-4c6d-9b91-93eb2c67158e",
   "metadata": {},
   "outputs": [
    {
     "data": {
      "text/plain": [
       "'vaibhav pandit'"
      ]
     },
     "execution_count": 25,
     "metadata": {},
     "output_type": "execute_result"
    }
   ],
   "source": [
    "#Examples of immutable:\n",
    "\n",
    "str1 = \"vaibhav pandit\" # str1 is a string\n",
    "str1"
   ]
  },
  {
   "cell_type": "code",
   "execution_count": 26,
   "id": "d6e40d44-50f7-499b-b5ed-d577774d1904",
   "metadata": {},
   "outputs": [
    {
     "ename": "TypeError",
     "evalue": "'str' object does not support item assignment",
     "output_type": "error",
     "traceback": [
      "\u001b[0;31m---------------------------------------------------------------------------\u001b[0m",
      "\u001b[0;31mTypeError\u001b[0m                                 Traceback (most recent call last)",
      "Cell \u001b[0;32mIn[26], line 1\u001b[0m\n\u001b[0;32m----> 1\u001b[0m \u001b[43mstr1\u001b[49m\u001b[43m[\u001b[49m\u001b[38;5;241;43m3\u001b[39;49m\u001b[43m]\u001b[49m \u001b[38;5;241m=\u001b[39m \u001b[38;5;124m\"\u001b[39m\u001b[38;5;124ms\u001b[39m\u001b[38;5;124m\"\u001b[39m \u001b[38;5;66;03m#string is a immutable after creation that can not be change.\u001b[39;00m\n\u001b[1;32m      2\u001b[0m str1    \u001b[38;5;66;03m# it will give error\u001b[39;00m\n",
      "\u001b[0;31mTypeError\u001b[0m: 'str' object does not support item assignment"
     ]
    }
   ],
   "source": [
    "str1[3] = \"s\" #string is a immutable after creation that can not be change.\n",
    "str1    # it will give error"
   ]
  },
  {
   "cell_type": "code",
   "execution_count": null,
   "id": "c1da0521-58b1-4620-b7be-ad2cf81fb5eb",
   "metadata": {},
   "outputs": [],
   "source": [
    "# Question_4 : Discuss the different types of operators in Python and provide examples of how they are used."
   ]
  },
  {
   "cell_type": "code",
   "execution_count": 27,
   "id": "140f52b8-22bc-4652-8690-0f8853615b90",
   "metadata": {},
   "outputs": [],
   "source": [
    "# 1 : Operator have special symbols or keywords that carry out specific action on numbers or variable in python expression.\n",
    "\n",
    "# 2 : Python supports various types of operator ;\n",
    "\n",
    "   # arithmetc operators : (+,-,*,/)\n",
    "    # comparisson operator : ( ==, !=,<,>)\n",
    "    # logical operator : ( and or not )\n",
    "    # assignment operator : ( = , +=, -=, *=, /=)\n",
    "    \n",
    " # 3 : Operator have precedence and associativity rules that determine the order of evaluation in expression.\n",
    "\n",
    "\n",
    "\n"
   ]
  },
  {
   "cell_type": "code",
   "execution_count": 33,
   "id": "fef92e16-26a5-47af-9cdc-aa69c465cf24",
   "metadata": {},
   "outputs": [
    {
     "name": "stdout",
     "output_type": "stream",
     "text": [
      "13\n",
      "42\n",
      "-1\n",
      "0.8571428571428571\n",
      "0\n",
      "6\n"
     ]
    }
   ],
   "source": [
    "#Examples: \n",
    " #arithmetic operator example \n",
    "a = 6\n",
    "b = 7\n",
    "    \n",
    "print(a+b)  \n",
    "print(a*b)\n",
    "print(a-b)\n",
    "print(a/b)\n",
    "print(a//b)\n",
    "print(a%b)"
   ]
  },
  {
   "cell_type": "code",
   "execution_count": 34,
   "id": "cfbad887-f0f8-4ff4-8b08-5d79382b2283",
   "metadata": {},
   "outputs": [
    {
     "name": "stdout",
     "output_type": "stream",
     "text": [
      "False\n",
      "True\n",
      "False\n",
      "True\n"
     ]
    }
   ],
   "source": [
    "# Examples :\n",
    "#Comparison operator\n",
    "a = 10\n",
    "b = 5\n",
    "\n",
    "print(a==b)\n",
    "print(a!=b)\n",
    "print(a<b)\n",
    "print(a>b)"
   ]
  },
  {
   "cell_type": "code",
   "execution_count": 37,
   "id": "a99f4490-7fc0-448b-956f-d9d5a55d2b9e",
   "metadata": {},
   "outputs": [
    {
     "data": {
      "text/plain": [
       "True"
      ]
     },
     "execution_count": 37,
     "metadata": {},
     "output_type": "execute_result"
    }
   ],
   "source": [
    "# logical operators :\n",
    "True and True "
   ]
  },
  {
   "cell_type": "code",
   "execution_count": 38,
   "id": "ffb6e7a5-e769-4cda-8e92-5ae61ff99253",
   "metadata": {},
   "outputs": [
    {
     "data": {
      "text/plain": [
       "True"
      ]
     },
     "execution_count": 38,
     "metadata": {},
     "output_type": "execute_result"
    }
   ],
   "source": [
    "True or False"
   ]
  },
  {
   "cell_type": "code",
   "execution_count": 39,
   "id": "ddfb1a17-8001-4e5a-bbf9-0de5a41898a9",
   "metadata": {},
   "outputs": [
    {
     "data": {
      "text/plain": [
       "False"
      ]
     },
     "execution_count": 39,
     "metadata": {},
     "output_type": "execute_result"
    }
   ],
   "source": [
    "not True"
   ]
  },
  {
   "cell_type": "code",
   "execution_count": 42,
   "id": "ff974d03-d32f-4b23-a3d7-d7e8e60db7bc",
   "metadata": {},
   "outputs": [
    {
     "name": "stdout",
     "output_type": "stream",
     "text": [
      "16\n"
     ]
    }
   ],
   "source": [
    "#assignment operator:\n",
    "a = 16\n",
    "b =10 \n",
    "\n",
    "print (a)\n",
    "       "
   ]
  },
  {
   "cell_type": "code",
   "execution_count": 43,
   "id": "272b6fb6-ebf9-42cf-abad-a823603bea4e",
   "metadata": {},
   "outputs": [
    {
     "name": "stdout",
     "output_type": "stream",
     "text": [
      "10\n"
     ]
    }
   ],
   "source": [
    "print (b)"
   ]
  },
  {
   "cell_type": "code",
   "execution_count": 48,
   "id": "25bfbca4-8afd-4ac0-ba43-32622468cb7c",
   "metadata": {},
   "outputs": [
    {
     "name": "stdout",
     "output_type": "stream",
     "text": [
      "26\n"
     ]
    }
   ],
   "source": [
    "a = 16\n",
    "b = 10\n",
    "a+=b\n",
    "print(a)"
   ]
  },
  {
   "cell_type": "code",
   "execution_count": 49,
   "id": "32a4c9cd-b6b6-42ab-ae8e-078ab6d36c21",
   "metadata": {},
   "outputs": [
    {
     "name": "stdout",
     "output_type": "stream",
     "text": [
      "6\n"
     ]
    }
   ],
   "source": [
    "a = 16\n",
    "b =10 \n",
    "a-=b\n",
    "print(a)"
   ]
  },
  {
   "cell_type": "code",
   "execution_count": 50,
   "id": "e99060e4-8055-4a8b-a600-e26332e02c53",
   "metadata": {},
   "outputs": [
    {
     "name": "stdout",
     "output_type": "stream",
     "text": [
      "1.6\n"
     ]
    }
   ],
   "source": [
    "a = 16\n",
    "b =10\n",
    "a/=b\n",
    "print(a)"
   ]
  },
  {
   "cell_type": "code",
   "execution_count": 51,
   "id": "ecfd0c3c-1fe0-4188-9727-ef368be572fd",
   "metadata": {},
   "outputs": [
    {
     "name": "stdout",
     "output_type": "stream",
     "text": [
      "160\n"
     ]
    }
   ],
   "source": [
    "a = 16\n",
    "b =10\n",
    "a*=b\n",
    "print (a)"
   ]
  },
  {
   "cell_type": "code",
   "execution_count": 52,
   "id": "b27870b7-c79c-4924-940e-4fcf31aa83d6",
   "metadata": {},
   "outputs": [
    {
     "name": "stdout",
     "output_type": "stream",
     "text": [
      "10\n"
     ]
    }
   ],
   "source": [
    "a =16\n",
    "b = 10\n",
    "a =b \n",
    "print(a)"
   ]
  },
  {
   "cell_type": "code",
   "execution_count": 58,
   "id": "cd9c6649-7d4f-4c9e-ab64-49a975811052",
   "metadata": {},
   "outputs": [
    {
     "name": "stdout",
     "output_type": "stream",
     "text": [
      "True\n"
     ]
    }
   ],
   "source": [
    "#membership operator \n",
    "list1 = [\" anu\", \"vaibhav\", \"prince\" , \"ashu\"]\n",
    "if \"prince\" in list1:\n",
    "    print(True)\n",
    "else:\n",
    "    print(False)"
   ]
  },
  {
   "cell_type": "code",
   "execution_count": null,
   "id": "2d8667d9-0fc4-4e03-9f45-26a752a7bb62",
   "metadata": {},
   "outputs": [],
   "source": [
    "#  Question_5:  explain the concept of type casting in Python with examples"
   ]
  },
  {
   "cell_type": "code",
   "execution_count": null,
   "id": "2c663c6e-9b33-4cfc-85ca-18462a530c2b",
   "metadata": {},
   "outputs": [],
   "source": [
    "#1 Type casting referred as type conversion , is a process of changing one data type to another in python.\n",
    "\n",
    "#2 python provide built in functions for type casting , such as int (), float(), str(), list(), tuple (), dict(), etc.\n",
    "\n",
    "#3 Type casting often necessary for performing arithmetic operations, data manipulation and input /output operation in python programs.\n"
   ]
  },
  {
   "cell_type": "code",
   "execution_count": 59,
   "id": "965e7da6-ad0a-4135-b8e9-719420cf2602",
   "metadata": {},
   "outputs": [
    {
     "data": {
      "text/plain": [
       "int"
      ]
     },
     "execution_count": 59,
     "metadata": {},
     "output_type": "execute_result"
    }
   ],
   "source": [
    "a = 3\n",
    "type(a)"
   ]
  },
  {
   "cell_type": "code",
   "execution_count": 60,
   "id": "a4719ba3-f291-4f1c-afbd-aa27b73a53c1",
   "metadata": {},
   "outputs": [
    {
     "data": {
      "text/plain": [
       "float"
      ]
     },
     "execution_count": 60,
     "metadata": {},
     "output_type": "execute_result"
    }
   ],
   "source": [
    "a =8.6547\n",
    "type (a)"
   ]
  },
  {
   "cell_type": "code",
   "execution_count": 61,
   "id": "f3948859-7303-4f11-8fff-e1c3bdc95d06",
   "metadata": {},
   "outputs": [
    {
     "data": {
      "text/plain": [
       "str"
      ]
     },
     "execution_count": 61,
     "metadata": {},
     "output_type": "execute_result"
    }
   ],
   "source": [
    "name = \"Anudeep kaur Walia\"\n",
    "type (name)"
   ]
  },
  {
   "cell_type": "code",
   "execution_count": 68,
   "id": "49f128eb-4996-424e-9773-479b7c8fcb4a",
   "metadata": {},
   "outputs": [
    {
     "data": {
      "text/plain": [
       "list"
      ]
     },
     "execution_count": 68,
     "metadata": {},
     "output_type": "execute_result"
    }
   ],
   "source": [
    "lis =[ 1,4,6,7,\"anu\",9,4,\"bella\",34]\n",
    "type (lis)"
   ]
  },
  {
   "cell_type": "code",
   "execution_count": 66,
   "id": "1b9838f6-bd65-4c9d-8ff4-113b68cea2c3",
   "metadata": {},
   "outputs": [
    {
     "data": {
      "text/plain": [
       "tuple"
      ]
     },
     "execution_count": 66,
     "metadata": {},
     "output_type": "execute_result"
    }
   ],
   "source": [
    "tup =(\"anu\" , \"bella\" , 1, 4 ,7)\n",
    "type (tup)"
   ]
  },
  {
   "cell_type": "code",
   "execution_count": 69,
   "id": "02a0df6c-e780-422f-9f3f-d549900a27a9",
   "metadata": {},
   "outputs": [
    {
     "name": "stdout",
     "output_type": "stream",
     "text": [
      "<class 'str'>\n"
     ]
    }
   ],
   "source": [
    "# type casting >> conversion one data type to another data type \n",
    "# integer to string \n",
    "a = 80\n",
    "print(type(str(a)))"
   ]
  },
  {
   "cell_type": "code",
   "execution_count": 71,
   "id": "74495fff-0ff4-4d0b-8223-903059f8c5bf",
   "metadata": {},
   "outputs": [
    {
     "name": "stdout",
     "output_type": "stream",
     "text": [
      "<class 'float'>\n"
     ]
    }
   ],
   "source": [
    "# integer to float \n",
    "a= 556666\n",
    "print(type(float(a)))\n"
   ]
  },
  {
   "cell_type": "code",
   "execution_count": 74,
   "id": "d761311a-9894-407f-8e67-6fa71e80b247",
   "metadata": {},
   "outputs": [
    {
     "name": "stdout",
     "output_type": "stream",
     "text": [
      "<class 'tuple'>\n"
     ]
    }
   ],
   "source": [
    "# list to tuple\n",
    "lis=(\"anu\", \"bela\", \"vaibhav\", 4,7,8,3,9)\n",
    "print(type(tuple(lis)))\n"
   ]
  },
  {
   "cell_type": "code",
   "execution_count": 1,
   "id": "dd14124c-7735-42d2-a647-17043596ac80",
   "metadata": {},
   "outputs": [],
   "source": [
    "# Question_6 How do conditional statements work in Python? Illustrate with examples"
   ]
  },
  {
   "cell_type": "code",
   "execution_count": 4,
   "id": "d988a9aa-e114-426a-a689-25fcc7b754ae",
   "metadata": {},
   "outputs": [
    {
     "name": "stdout",
     "output_type": "stream",
     "text": [
      "marks greater than fifty\n"
     ]
    }
   ],
   "source": [
    "marks = 100\n",
    "if marks > 50:\n",
    "    print( \"marks greater than fifty\")\n",
    "else:\n",
    "    print(\"marks not greater than fifty\")\n",
    "        \n",
    "        \n",
    "        "
   ]
  },
  {
   "cell_type": "code",
   "execution_count": 2,
   "id": "c54641d9-fde5-4070-8e6a-32e62f4b329e",
   "metadata": {},
   "outputs": [
    {
     "name": "stdout",
     "output_type": "stream",
     "text": [
      "marks are not greater than 200\n"
     ]
    }
   ],
   "source": [
    "marks = 100\n",
    "if marks >300:\n",
    "    print (\"marks are greater than three hundred\")\n",
    "elif marks > 200 :\n",
    "    print (\"marks are  greater than two hundred\")\n",
    "else:\n",
    "    print (\"marks are not greater than 200\")"
   ]
  },
  {
   "cell_type": "code",
   "execution_count": 4,
   "id": "b0d405d8-f165-4b02-8dde-37633d9c7839",
   "metadata": {},
   "outputs": [
    {
     "name": "stdout",
     "output_type": "stream",
     "text": [
      "you are adult\n"
     ]
    }
   ],
   "source": [
    "age = 30 \n",
    "if age < 18:\n",
    "    print (\" you are minority \")\n",
    "elif 18 <age<=65:\n",
    "    print (\"you are adult\")\n",
    "else:\n",
    "    print (\"you are senior citizen\")"
   ]
  },
  {
   "cell_type": "code",
   "execution_count": 16,
   "id": "fd298a93-a64e-4717-bbf8-85fe464dd6ca",
   "metadata": {},
   "outputs": [
    {
     "name": "stdout",
     "output_type": "stream",
     "text": [
      "you are genius \n"
     ]
    }
   ],
   "source": [
    "grade = 100 \n",
    "nikhil = True\n",
    "if(( grade < 200 )and (nikhil ==True)):\n",
    "        print ( \"you are genius \")"
   ]
  },
  {
   "cell_type": "code",
   "execution_count": 32,
   "id": "c20facea-058e-465c-afc7-00bdec0a57f6",
   "metadata": {},
   "outputs": [
    {
     "name": "stdout",
     "output_type": "stream",
     "text": [
      "x and y are both  not greater than 9\n"
     ]
    }
   ],
   "source": [
    "#nested if else \n",
    "x = 8\n",
    "y = 8\n",
    "if x > 9:\n",
    "        if y > 9:\n",
    "            print (\" both x and y are greater than 9\")\n",
    "        else:\n",
    "            print (\" x is greater than 9 and y is  not greater than 9\")\n",
    "    \n",
    "else:  \n",
    "    if y > 9:\n",
    "        print (\" x is not greater than 9\")\n",
    "    else :\n",
    "         print( \"x and y are both  not greater than 9\")\n"
   ]
  },
  {
   "cell_type": "code",
   "execution_count": 14,
   "id": "6c66f289-6889-42af-94c4-e0c80c8197ed",
   "metadata": {},
   "outputs": [],
   "source": [
    "# Question_7  Describe the different types of loops in Python and their use cases with examples."
   ]
  },
  {
   "cell_type": "code",
   "execution_count": null,
   "id": "d6eab1f3-9c79-4f0d-9be5-70e2a3a807f2",
   "metadata": {},
   "outputs": [],
   "source": [
    "# There are two types of loops:\n",
    "\n",
    "# 1 : for loops \n",
    "# 2 : while loops"
   ]
  },
  {
   "cell_type": "code",
   "execution_count": 1,
   "id": "7a8eca8b-a653-4af2-a6ab-4a2e6512d7ed",
   "metadata": {},
   "outputs": [
    {
     "name": "stdout",
     "output_type": "stream",
     "text": [
      "2\n",
      "4\n",
      "6\n",
      "8\n",
      "10\n",
      "12\n",
      "14\n",
      "16\n",
      "18\n"
     ]
    }
   ],
   "source": [
    "# example for loop \n",
    "#even no\n",
    "for i in range (2,20):\n",
    "    if i%2 ==0:\n",
    "        print (i)"
   ]
  },
  {
   "cell_type": "code",
   "execution_count": 2,
   "id": "dfbbcaec-288a-4646-951b-fe924803bd7e",
   "metadata": {},
   "outputs": [
    {
     "name": "stdout",
     "output_type": "stream",
     "text": [
      "1\n",
      "3\n",
      "5\n",
      "7\n",
      "9\n",
      "11\n",
      "13\n",
      "15\n",
      "17\n",
      "19\n",
      "21\n",
      "23\n",
      "25\n",
      "27\n",
      "29\n"
     ]
    }
   ],
   "source": [
    "\n",
    "#  odd  no\n",
    "\n",
    "for i in range (1,30):\n",
    "    if i%2!=0:\n",
    "        print(i)"
   ]
  },
  {
   "cell_type": "code",
   "execution_count": 6,
   "id": "be62cc6a-7e17-4808-b43b-5bfd676cdd27",
   "metadata": {},
   "outputs": [
    {
     "name": "stdout",
     "output_type": "stream",
     "text": [
      "5\n",
      "4\n",
      "3\n",
      "2\n",
      "1\n"
     ]
    }
   ],
   "source": [
    "#while loop\n",
    "\n",
    "count= 5\n",
    "while count > 0 :\n",
    "      print(count)\n",
    "      count = count-1\n",
    "        "
   ]
  },
  {
   "cell_type": "code",
   "execution_count": 11,
   "id": "4c2ff828-b39c-41d3-be29-7471ce57d420",
   "metadata": {},
   "outputs": [
    {
     "name": "stdout",
     "output_type": "stream",
     "text": [
      "20\n"
     ]
    }
   ],
   "source": [
    "# break statement \n",
    "for i in range (1,30):\n",
    "    if i%20==0:\n",
    "        print(i)\n",
    "        break"
   ]
  },
  {
   "cell_type": "code",
   "execution_count": 14,
   "id": "b234b5c3-769e-4689-a85d-1e83fdca6036",
   "metadata": {},
   "outputs": [
    {
     "name": "stdout",
     "output_type": "stream",
     "text": [
      "21\n"
     ]
    }
   ],
   "source": [
    "for i in range (21,45):\n",
    "    if i%2!=0:\n",
    "        print(i)\n",
    "        break\n",
    "\n",
    "\n",
    "\n"
   ]
  },
  {
   "cell_type": "code",
   "execution_count": 19,
   "id": "52c7222b-c328-4161-8ce4-3ec16ad3e232",
   "metadata": {},
   "outputs": [
    {
     "name": "stdout",
     "output_type": "stream",
     "text": [
      "8\n",
      "12\n",
      "14\n",
      "16\n",
      "18\n",
      "20\n",
      "22\n",
      "24\n",
      "26\n",
      "28\n",
      "30\n",
      "32\n",
      "34\n",
      "36\n",
      "38\n",
      "40\n",
      "42\n",
      "44\n"
     ]
    }
   ],
   "source": [
    "#continue statement example\n",
    "\n",
    "for i in range (7, 45):\n",
    "     if i%2==0:\n",
    "        if i ==10:\n",
    "            continue\n",
    "        print(i)"
   ]
  },
  {
   "cell_type": "code",
   "execution_count": 21,
   "id": "6bca2a8e-e975-400c-8b7f-b96a3b135de0",
   "metadata": {},
   "outputs": [
    {
     "name": "stdout",
     "output_type": "stream",
     "text": [
      "3\n",
      "5\n",
      "7\n",
      "9\n",
      "11\n",
      "13\n",
      "15\n",
      "17\n",
      "19\n",
      "23\n",
      "25\n",
      "27\n",
      "29\n"
     ]
    }
   ],
   "source": [
    "for i in range(3, 30):\n",
    "    if i%2!=0:\n",
    "        if i == 21:\n",
    "            continue\n",
    "        print(i)"
   ]
  },
  {
   "cell_type": "code",
   "execution_count": null,
   "id": "c284078c-6b6e-42e2-9889-c79a93f5bfa2",
   "metadata": {},
   "outputs": [],
   "source": []
  }
 ],
 "metadata": {
  "kernelspec": {
   "display_name": "Python 3 (ipykernel)",
   "language": "python",
   "name": "python3"
  },
  "language_info": {
   "codemirror_mode": {
    "name": "ipython",
    "version": 3
   },
   "file_extension": ".py",
   "mimetype": "text/x-python",
   "name": "python",
   "nbconvert_exporter": "python",
   "pygments_lexer": "ipython3",
   "version": "3.10.8"
  }
 },
 "nbformat": 4,
 "nbformat_minor": 5
}
